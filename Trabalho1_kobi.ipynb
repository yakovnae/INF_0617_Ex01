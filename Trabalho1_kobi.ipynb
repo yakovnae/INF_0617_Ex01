{
 "cells": [
  {
   "cell_type": "code",
   "execution_count": 1,
   "metadata": {},
   "outputs": [],
   "source": [
    "import os\n",
    "import math\n",
    "import time\n",
    "import numpy as np\n",
    "import multiprocessing as mp\n",
    "from collections import Counter\n",
    "from os.path import getsize\n",
    "\n",
    "os.chdir(\"/Users/kobinae/KOBITemp/Dropbox/10_Venturus/MDC/201810_INF-0617/Ex01/INF0617_Ex01/gut/txt\")\n",
    "#os.chdir(\"/home/venturus/Dropbox/10_Venturus/MDC/201810_INF-0617/Ex01\")\n",
    "\n",
    "filenames = []\n",
    "for file in os.listdir(\"./\"):\n",
    "    if file.endswith(\".txt\"):\n",
    "        filenames.append(file)\n",
    "filenames_sorted = sorted(filenames, key=getsize)\n",
    "\n",
    "def mysplit(filenames,N,verbose=False):\n",
    "    #filenames = sorted(filenames, key=getsize)\n",
    "    #SPLITING A LIST OF FILES TO N CHUNKS WITH SIMILAR TOTAL SIZE IN MB\n",
    "    s=[0]*N #filesize for each chunck\n",
    "    ms = [[] for _ in range(N)]\n",
    "    for f in filenames:\n",
    "        n=s.index(min(s))\n",
    "        ms[n].append(f)\n",
    "        s[n]=s[n]+os.path.getsize(f)\n",
    "    if verbose:\n",
    "        for i in range(N):\n",
    "            print(\"chunck\",i,\"nfiles=\",len(ms[i]),\" size=\",s[i])\n",
    "    return ms\n",
    "\n",
    "def proc_single_file(filename,q):\n",
    "    #FINDING THE MOST REPEATED CHAR IN A SPECIFIC FILE\n",
    "    f = open(filename, encoding='utf-8', errors='ignore')\n",
    "    file_content = f.read()\n",
    "    f.close()\n",
    "    new_content = file_content.replace(' ', '').replace('\\n','')\n",
    "    q.put(filename + ' ' + Counter(new_content).most_common(1)[0][0])\n",
    "\n",
    "def proc_array_file(array_file,q):\n",
    "    #SERIAL IMPLEMENTATION FOR FINDING MOST REPEATED CHAR IN LIST OF FILES\n",
    "    for f in array_file:\n",
    "        proc_single_file(f,q)\n",
    "    return q\n",
    "        \n",
    "def count_char_parallel(filenames,nsplit,verbose):\n",
    "    #PARALLEL IMPLEMENTATION FOR FINDING MOST REPEATED CHAR IN LIST OF FILES\n",
    "    file_sets=mysplit(filenames,nsplit,verbose)\n",
    "    q = mp.Queue()\n",
    "    processes = []\n",
    "    for f_set in file_sets:\n",
    "        p = mp.Process(target=proc_array_file, args=(f_set,q))\n",
    "        p.start()\n",
    "        processes.append(p)\n",
    "    for p in processes:\n",
    "        p.join()\n",
    "    if verbose:\n",
    "        while not q.empty():\n",
    "            print(q.get())\n",
    "    return q"
   ]
  },
  {
   "cell_type": "code",
   "execution_count": 2,
   "metadata": {},
   "outputs": [
    {
     "name": "stdout",
     "output_type": "stream",
     "text": [
      "Serial execution took 27.95413088798523 seconds\n",
      "Parallel execution took 13.105098009109497 seconds\n"
     ]
    }
   ],
   "source": [
    "#EXECUTION\n",
    "tmp_time = time.time()\n",
    "q = mp.Queue()\n",
    "q_serial=proc_array_file(filenames,q)\n",
    "print('Serial execution took ' + str(time.time()-tmp_time) + ' seconds')\n",
    "\n",
    "tmp_time = time.time()\n",
    "q_parallel=count_char_parallel(filenames,4,False)\n",
    "print('Parallel execution took ' + str(time.time()-tmp_time) + ' seconds')\n"
   ]
  },
  {
   "cell_type": "code",
   "execution_count": 3,
   "metadata": {},
   "outputs": [
    {
     "name": "stdout",
     "output_type": "stream",
     "text": [
      "Parallel and serial results are the same\n"
     ]
    }
   ],
   "source": [
    "#VALIDATION\n",
    "a=[]\n",
    "while not q_parallel.empty():\n",
    "    a.append(q_parallel.get())\n",
    "b=[]\n",
    "while not q_serial.empty():\n",
    "    a.append(q_serial.get())\n",
    "if a.sort() == b.sort():\n",
    "    print(\"Parallel and serial results are the same\")"
   ]
  }
 ],
 "metadata": {
  "kernelspec": {
   "display_name": "Python 3",
   "language": "python",
   "name": "python3"
  },
  "language_info": {
   "codemirror_mode": {
    "name": "ipython",
    "version": 3
   },
   "file_extension": ".py",
   "mimetype": "text/x-python",
   "name": "python",
   "nbconvert_exporter": "python",
   "pygments_lexer": "ipython3",
   "version": "3.6.5"
  }
 },
 "nbformat": 4,
 "nbformat_minor": 2
}
