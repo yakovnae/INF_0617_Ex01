{
 "cells": [
  {
   "cell_type": "code",
   "execution_count": 1,
   "metadata": {},
   "outputs": [],
   "source": [
    "import os\n",
    "import time\n",
    "import numpy as np\n",
    "import multiprocessing as mp\n",
    "from multiprocessing import Process\n",
    "from collections import Counter\n",
    "from os.path import getsize\n",
    "\n",
    "os.chdir(\"/Users/kobinae/KOBITemp/Dropbox/10_Venturus/MDC/201810_INF-0617/Ex01/INF0617_Ex01/gut/txt\")\n",
    "#print(os.getcwd())\n",
    "\n",
    "filenames = []\n",
    "for file in os.listdir(\"./\"):\n",
    "    if file.endswith(\".txt\"):\n",
    "        filenames.append(file)\n",
    "filenames_sorted = sorted(filenames, key=getsize)\n",
    "##################################################################################\n",
    "# Serial solution\n",
    "##################################################################################\n",
    "def processar_s(filename):\n",
    "    f = open(filename, encoding='utf-8', errors='ignore')\n",
    "    file_content = f.read()\n",
    "    f.close()\n",
    "    new_content = file_content.replace(' ', '').replace('\\n','')\n",
    "    return filename + ' ' + Counter(new_content).most_common(1)[0][0]\n",
    "def serial(filenames,show_results):\n",
    "    tmp_time = time.time()\n",
    "    res = []\n",
    "    for f in filenames:\n",
    "        res.append(processar_s(f))\n",
    "    if show_results:\n",
    "        for r in res:\n",
    "            print(r)\n",
    "    return time.time()-tmp_time\n",
    "\n",
    "##################################################################################\n",
    "## Optimized paralel solution\n",
    "##################################################################################\n",
    "def processar_p(filename,q):\n",
    "    f = open(filename, encoding='utf-8', errors='ignore')\n",
    "    file_content = f.read()\n",
    "    f.close()\n",
    "    new_content = file_content.replace(' ', '').replace('\\n','')\n",
    "    q.put(filename + ' ' + Counter(new_content).most_common(1)[0][0])\n",
    "def parallel_splited(filenames,nsplit,show_results):\n",
    "    tmp_time = time.time()\n",
    "    file_sets = np.array_split(np.array(filenames.copy()), nsplit)\n",
    "    q = mp.Queue()\n",
    "    for f_set in file_sets:\n",
    "        for f in f_set:\n",
    "            processes = []\n",
    "            p = Process(target=processar_p, args=(f,q))\n",
    "            p.start()\n",
    "            processes.append(p)\n",
    "        for p in processes:\n",
    "            p.join()\n",
    "    if show_results:\n",
    "        while not q.empty():\n",
    "            print(q.get())\n",
    "    return time.time() - tmp_time\n",
    "##################################################################################\n",
    "## Optimized paralel solution\n",
    "##################################################################################\n",
    "def read_p2(filename):\n",
    "    f = open(filename, encoding='utf-8', errors='ignore')\n",
    "    file_content = f.read()\n",
    "    f.close()\n",
    "    return file_content\n",
    "def processar_p2(file_content,filename,q):\n",
    "    new_content = file_content.replace(' ', '').replace('\\n','')\n",
    "    q.put(filename + ' ' + Counter(new_content).most_common(1)[0][0])\n",
    "\n",
    "def parallel_splited2(filenames,nsplit,show_results):\n",
    "    tmp_time = time.time()\n",
    "    file_sets = np.array_split(np.array(filenames.copy()), nsplit)\n",
    "    q = mp.Queue()\n",
    "    for f_set in file_sets:\n",
    "        contents=[]\n",
    "        for i in range(0,len(f_set)-1):\n",
    "            contents.append(read_p2(f_set[i]))\n",
    "        for i in range(0,len(f_set)-1):\n",
    "            processes = []\n",
    "            p = Process(target=processar_p2, args=(contents[i],f_set[i],q))\n",
    "            p.start()\n",
    "            processes.append(p)\n",
    "        for p in processes:\n",
    "            p.join()\n",
    "    if show_results:\n",
    "        while not q.empty():\n",
    "            print(q.get())\n",
    "    return time.time() - tmp_time\n"
   ]
  },
  {
   "cell_type": "code",
   "execution_count": 2,
   "metadata": {},
   "outputs": [
    {
     "name": "stdout",
     "output_type": "stream",
     "text": [
      "Serial execution took 25.86820888519287 seconds\n"
     ]
    }
   ],
   "source": [
    "serial1_time = serial(filenames,False)\n",
    "print('Serial execution took ' + str(serial1_time) + ' seconds')"
   ]
  },
  {
   "cell_type": "code",
   "execution_count": 3,
   "metadata": {},
   "outputs": [
    {
     "name": "stdout",
     "output_type": "stream",
     "text": [
      "Paralle efficient execution took 14.134817123413086 seconds\n"
     ]
    }
   ],
   "source": [
    "parallel_efficient_time = parallel_splited(filenames_sorted,4,False)\n",
    "print('Paralle efficient execution took ' + str(parallel_efficient_time) + ' seconds')"
   ]
  },
  {
   "cell_type": "code",
   "execution_count": 4,
   "metadata": {},
   "outputs": [
    {
     "name": "stdout",
     "output_type": "stream",
     "text": [
      "Paralle efficient execution took 14.480770111083984 seconds\n"
     ]
    }
   ],
   "source": [
    "parallel_efficient_time = parallel_splited2(filenames_sorted,4,False)\n",
    "print('Paralle efficient execution took ' + str(parallel_efficient_time) + ' seconds')"
   ]
  }
 ],
 "metadata": {
  "kernelspec": {
   "display_name": "Python 3",
   "language": "python",
   "name": "python3"
  },
  "language_info": {
   "codemirror_mode": {
    "name": "ipython",
    "version": 3
   },
   "file_extension": ".py",
   "mimetype": "text/x-python",
   "name": "python",
   "nbconvert_exporter": "python",
   "pygments_lexer": "ipython3",
   "version": "3.6.5"
  }
 },
 "nbformat": 4,
 "nbformat_minor": 2
}
