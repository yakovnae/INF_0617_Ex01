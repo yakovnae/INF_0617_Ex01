{
 "cells": [
  {
   "cell_type": "code",
   "execution_count": 7,
   "metadata": {},
   "outputs": [],
   "source": [
    "import os\n",
    "from multiprocessing import Process\n",
    "import time\n",
    "os.chdir(\"/Users/kobinae/KOBITemp/Dropbox/10_Venturus/MDC/201810_INF-0617/Ex01/INF0617_Ex01\")\n",
    "\n",
    "filenames = []\n",
    "for file in os.listdir(\"../gut/txt\"):\n",
    "    if file.endswith(\".txt\"):\n",
    "        filenames.append(file)\n",
    "for file in filenames:\n",
    "    count=0\n",
    "    D = {}\n",
    "    with open(\"../gut/txt/\" + file) as f:\n",
    "        for line in f:\n",
    "            for c in line:\n",
    "                count = count +1\n",
    "#    for line in contents:\n",
    "#        chars = chars + len(line)\n",
    "#    print(filename,\"has\",len(contents),\"lines and\",chars,\"characters\")\n"
   ]
  },
  {
   "cell_type": "code",
   "execution_count": 9,
   "metadata": {},
   "outputs": [
    {
     "name": "stdout",
     "output_type": "stream",
     "text": [
      "C\n"
     ]
    }
   ],
   "source": [
    "c='c'\n",
    "print(c.upper())"
   ]
  }
 ],
 "metadata": {
  "kernelspec": {
   "display_name": "Python 3",
   "language": "python",
   "name": "python3"
  },
  "language_info": {
   "codemirror_mode": {
    "name": "ipython",
    "version": 3
   },
   "file_extension": ".py",
   "mimetype": "text/x-python",
   "name": "python",
   "nbconvert_exporter": "python",
   "pygments_lexer": "ipython3",
   "version": "3.6.5"
  }
 },
 "nbformat": 4,
 "nbformat_minor": 2
}
